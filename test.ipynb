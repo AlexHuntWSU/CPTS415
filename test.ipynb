{
 "cells": [
  {
   "cell_type": "markdown",
   "metadata": {},
   "source": [
    "How to run: 1. Docker compose up 2. Access the notebook here: http://localhost:8888 3. View Spark info here: http://localhost:8080/"
   ]
  },
  {
   "cell_type": "code",
   "execution_count": null,
   "metadata": {},
   "outputs": [],
   "source": [
    "from pyspark.sql import SparkSession\n",
    "from pyspark.sql.functions import explode, col, lit, lead, concat, udf\n",
    "from pyspark.sql import Window\n",
    "import random\n",
    "from pyspark.sql.types import DoubleType"
   ]
  },
  {
   "cell_type": "code",
   "execution_count": null,
   "metadata": {},
   "outputs": [],
   "source": [
    "spark = SparkSession.builder.master('spark://spark-master:7077').config(\"spark.executor.cores\", \"2\").getOrCreate()\n",
    "#Also use .config(\"spark.cores.max\",\"16\") to see how changing the cores affect performance"
   ]
  },
  {
   "cell_type": "code",
   "execution_count": null,
   "metadata": {},
   "outputs": [],
   "source": [
    "# Generate a DataFrame with a single column \"Value\" containing random numbers\n",
    "data = [(random.random(),) for _ in range(10000000)]\n",
    "df_large = spark.createDataFrame(data, [\"Value\"])\n",
    "\n",
    "# Define a user-defined function (UDF) for a computationally intensive operation\n",
    "@udf(DoubleType())\n",
    "def intensive_operation(value):\n",
    "    result = value\n",
    "    for _ in range(100):\n",
    "        result = result * result - 0.5\n",
    "    return result\n",
    "\n",
    "# Perform the intensive operation on the \"Value\" column\n",
    "df_processed = df_large.withColumn(\"Result\", intensive_operation(col(\"Value\")))\n",
    "\n",
    "# Show the first few rows of the processed DataFrame\n",
    "df_processed.show()\n",
    "spark.stop()"
   ]
  },
  {
   "cell_type": "code",
   "execution_count": null,
   "metadata": {},
   "outputs": [],
   "source": [
    "spark.stop()"
   ]
  }
 ],
 "metadata": {
  "kernelspec": {
   "display_name": "Python 3",
   "language": "python",
   "name": "python3"
  },
  "language_info": {
   "codemirror_mode": {
    "name": "ipython",
    "version": 3
   },
   "file_extension": ".py",
   "mimetype": "text/x-python",
   "name": "python",
   "nbconvert_exporter": "python",
   "pygments_lexer": "ipython3",
   "version": "3.8.0"
  }
 },
 "nbformat": 4,
 "nbformat_minor": 2
}
